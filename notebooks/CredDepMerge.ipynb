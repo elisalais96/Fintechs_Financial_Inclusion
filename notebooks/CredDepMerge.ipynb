{
 "cells": [
  {
   "cell_type": "code",
   "execution_count": 4,
   "metadata": {},
   "outputs": [],
   "source": [
    "import pandas as pd\n",
    "import glob"
   ]
  },
  {
   "cell_type": "code",
   "execution_count": 6,
   "metadata": {},
   "outputs": [],
   "source": [
    "# Além depósitos tem crédito\n",
    "files = glob.glob('../Dados/Raw/Depositos/*.xlsx')\n",
    "\n",
    "columns = ['#DATA_BASE', 'UF', 'VERBETE_420_DEPOSITOS_DE_POUPANCA', 'VERBETE_430_DEPOSITOS_INTERIFNANCEIROS', 'VERBETE_431_DEPOSITOS_INTERFINANCEIROS', 'VERBETE_432_DEPOSITOS_A_PRAZO', 'VERBETE_112_DEPOSITOS_BANCARIOS', 'VERBETE_160_OPERACOES_DE_CREDITO','VERBETE_172_OUTROS_CREDITOS']"
   ]
  },
  {
   "cell_type": "code",
   "execution_count": 7,
   "metadata": {},
   "outputs": [],
   "source": [
    "df1 = pd.read_excel(files[0])[columns]\n",
    "df4 = pd.read_excel(files[0], sheet_name = 1)[columns] # Outras abas\n",
    "df5 = pd.read_excel(files[0], sheet_name = 2)[columns]\n",
    "\n",
    "df2 = pd.read_excel(files[1])[columns]\n",
    "df6 = pd.read_excel(files[1], sheet_name = 1)[columns]\n",
    "\n",
    "df3 = pd.read_excel(files[2])[columns]"
   ]
  },
  {
   "cell_type": "code",
   "execution_count": 8,
   "metadata": {},
   "outputs": [],
   "source": [
    "df = df1.append(df2).append(df3).append(df4).append(df5).append(df6)\n",
    "df.to_csv('../Dados/Raw/Depositos/Consolidado.csv', index = None)"
   ]
  }
 ],
 "metadata": {
  "kernelspec": {
   "display_name": "Python 3",
   "language": "python",
   "name": "python3"
  },
  "language_info": {
   "codemirror_mode": {
    "name": "ipython",
    "version": 3
   },
   "file_extension": ".py",
   "mimetype": "text/x-python",
   "name": "python",
   "nbconvert_exporter": "python",
   "pygments_lexer": "ipython3",
   "version": "3.8.3"
  }
 },
 "nbformat": 4,
 "nbformat_minor": 4
}
